{
 "cells": [
  {
   "cell_type": "code",
   "execution_count": 1,
   "metadata": {},
   "outputs": [],
   "source": [
    "import numpy as np\n",
    "from scipy.stats import laplace\n",
    "import csv\n",
    "import matplotlib.pyplot as plt\n",
    "import math\n",
    "out = open(\"movie_metadata.csv\",newline = '');\n",
    "f = csv.reader(out);\n",
    "data = [];\n",
    "header = next(f);\n",
    "for row in f:\n",
    "    data.append(row);\n",
    "out.close();"
   ]
  },
  {
   "cell_type": "code",
   "execution_count": 8,
   "metadata": {},
   "outputs": [],
   "source": [
    "def grosstotal(data):\n",
    "    tamanho = len(data);\n",
    "    i=0;\n",
    "    maior = 0;\n",
    "    while i < tamanho:\n",
    "        if data[i][8] != \"\" and int(data[i][8]) >  maior:\n",
    "            maior = int(data[i][8]);\n",
    "        i = i + 1;\n",
    "    return maior;\n",
    "            \n",
    "def gross(data):\n",
    "    maior = 0;\n",
    "    i = 0;\n",
    "    nome = '';\n",
    "    tamanho = len(data);\n",
    "    while i < tamanho:\n",
    "        if data[i][1] != \"\" and  int(data[i][1]) > maior:\n",
    "            maior = int(data[i][1]);\n",
    "            nome = data[i][0];\n",
    "        i = i+1;\n",
    "    resultado = []\n",
    "    resultado.append([nome,maior])\n",
    "    return resultado;\n",
    "def grossLanguage(data):\n",
    "    i = 0;\n",
    "    Languages = set();\n",
    "    tamanho = len(data);\n",
    "    while i < tamanho:\n",
    "        Languages.add(data[i][19]);\n",
    "        i = i + 1;\n",
    "    tamanho = len(Languages);\n",
    "    vetorlingua = [];\n",
    "    lingua = [];\n",
    "    i = 0;\n",
    "    while i < tamanho:\n",
    "        aux = Languages.pop();\n",
    "        lingua.append(aux);\n",
    "        vetorlingua.append(vetorLanguage(aux,data));\n",
    "        i = i + 1;\n",
    "    i = 0;\n",
    "    vetorgross = []\n",
    "    while i < tamanho:\n",
    "        vetorgross.append([lingua[i],gross(vetorlingua[i])])\n",
    "        i = i + 1;\n",
    "    return vetorgross;\n",
    "\n",
    "def vetorLanguage(nome,data):\n",
    "    i = 0;\n",
    "    tamanho = len(data);\n",
    "    resultado = []\n",
    "    while i < tamanho:\n",
    "        if data[i][19] == nome:\n",
    "            resultado.append([data[i][11],data[i][8]]);\n",
    "        i = i + 1;\n",
    "    return resultado\n",
    "def sen(data,coluna):\n",
    "    tamanho = len(data);\n",
    "    maior = -1\n",
    "    i = 0;\n",
    "    total = somatorio(data,coluna);\n",
    "    while i < tamanho:\n",
    "        if int(data[i][coluna]) > maior:\n",
    "            maior = int(data[i][coluna]);\n",
    "        i = i+1;\n",
    "    return total - maior;\n",
    "\n",
    "def top3(data):\n",
    "    pais = set()\n",
    "    i = 0;\n",
    "    tamanho = len(data);\n",
    "    while i < tamanho:\n",
    "        pais.add(data[i][20])\n",
    "        i = i + 1;\n",
    "    tamanho = len(pais);\n",
    "    total = [];\n",
    "    i = 0;\n",
    "    while i < tamanho:\n",
    "        nome = pais.pop();\n",
    "        total.append([contagem(data,nome),nome])\n",
    "        i = i + 1;\n",
    "    total.sort(reverse = True);\n",
    "    resultado = [total[0],total[1],total[2]];\n",
    "    return resultado;\n",
    "    \n",
    "def contagem(data,nome):\n",
    "    tamanho = len(data);\n",
    "    i = 0;\n",
    "    cont = 0;\n",
    "    while i < tamanho:\n",
    "        if data[i][20] == nome:\n",
    "            cont = cont + 1;\n",
    "        i = i + 1;\n",
    "    return cont;\n",
    "def somatorio(data,coluna):\n",
    "    tamanho = len(data);\n",
    "    i = 0;\n",
    "    total = []\n",
    "    while i < tamanho:\n",
    "        total.append(int(data[i][coluna]));\n",
    "        i = i+1;\n",
    "    total = sum(total);  \n",
    "def noise(epislon,x,sen):\n",
    "    while True:\n",
    "        y = laplace.rvs(loc=0, scale=3*(sen/epislon), size=1, random_state=None);\n",
    "        if math.log1p(x/y) <= epislon:\n",
    "            break\n",
    "    return x-y;\n",
    "def noisecoluna(data,coluna,sen,epislon):\n",
    "    tamanho = len(data);\n",
    "    i=0;\n",
    "    while i < tamanho:\n",
    "        data[i][coluna] = noise(epislon,data[i][coluna],sen);\n",
    "        i = i + 1;\n",
    "    return data"
   ]
  },
  {
   "cell_type": "code",
   "execution_count": 3,
   "metadata": {},
   "outputs": [
    {
     "data": {
      "text/plain": [
       "760505847"
      ]
     },
     "execution_count": 3,
     "metadata": {},
     "output_type": "execute_result"
    }
   ],
   "source": [
    "data = noisecoluna(data,8,sen,0.01)\n",
    "grosstotal(data)"
   ]
  },
  {
   "cell_type": "code",
   "execution_count": 4,
   "metadata": {},
   "outputs": [
    {
     "data": {
      "text/plain": [
       "[['', [['Over the Hill to the Poorhouse\\xa0', 3000000]]],\n",
       " ['Zulu', [['Tsotsi\\xa0', 2912363]]],\n",
       " ['Kannada', [['', 0]]],\n",
       " ['Filipino', [['The Great Raid\\xa0', 10166502]]],\n",
       " ['Hebrew', [['The Gatekeepers\\xa0', 2408553]]],\n",
       " ['Korean', [['The Host\\xa0', 2201412]]],\n",
       " ['Urdu', [['', 0]]],\n",
       " ['Hungarian', [['Fateless\\xa0', 195888]]],\n",
       " ['Hindi', [['Monsoon Wedding\\xa0', 13876974]]],\n",
       " ['German', [['Das Boot\\xa0', 11433134]]],\n",
       " ['Dutch', [['Black Book\\xa0', 4398392]]],\n",
       " ['Slovenian', [['', 0]]],\n",
       " ['Polish', [['Ida\\xa0', 3826455]]],\n",
       " ['Russian', [['Night Watch\\xa0', 1487477]]],\n",
       " ['Norwegian', [['Headhunters\\xa0', 1196752]]],\n",
       " ['Maya', [['Apocalypto\\xa0', 50859889]]],\n",
       " ['Icelandic', [['Of Horses and Men\\xa0', 11835]]],\n",
       " ['Indonesian', [['The Raid: Redemption\\xa0', 4105123]]],\n",
       " ['Dari', [['The Kite Runner\\xa0', 15797907]]],\n",
       " ['Thai', [['The Protector\\xa0', 11905519]]],\n",
       " ['English', [['Avatar\\xa0', 760505847]]],\n",
       " ['Czech', [['I Served the King of England\\xa0', 617228]]],\n",
       " ['Italian', [['The Adventures of Pinocchio\\xa0', 15091542]]],\n",
       " ['Cantonese', [['Rumble in the Bronx\\xa0', 32333860]]],\n",
       " ['Dzongkha', [['Travelers and Magicians\\xa0', 505295]]],\n",
       " ['French', [['March of the Penguins\\xa0', 77413017]]],\n",
       " ['Mandarin', [['Crouching Tiger, Hidden Dragon\\xa0', 128067808]]],\n",
       " ['Japanese', [['Ponyo\\xa0', 15081783]]],\n",
       " ['Bosnian', [['In the Land of Blood and Honey\\xa0', 301305]]],\n",
       " ['Arabic', [['Caramel\\xa0', 1060591]]],\n",
       " ['Aboriginal', [['The Interpreter\\xa0', 72515360]]],\n",
       " ['Danish', [['The Celebration\\xa0', 1647780]]],\n",
       " ['Spanish', [['The Legend of Zorro\\xa0', 45356386]]],\n",
       " ['Persian', [['A Separation\\xa0', 7098492]]],\n",
       " ['Tamil', [['', 0]]],\n",
       " ['Swedish', [['Easy Money\\xa0', 188870]]],\n",
       " ['Panjabi', [['', 0]]],\n",
       " ['Greek', [['Dogtooth\\xa0', 110197]]],\n",
       " ['None', [['Samsara\\xa0', 2601847]]],\n",
       " ['Swahili', [['', 0]]],\n",
       " ['Aramaic', [['The Passion of the Christ\\xa0', 499263]]],\n",
       " ['Romanian', [['4 Months, 3 Weeks and 2 Days\\xa0', 1185783]]],\n",
       " ['Kazakh', [['Nomad: The Warrior\\xa0', 77231]]],\n",
       " ['Chinese', [['My Lucky Star\\xa0', 50000]]],\n",
       " ['Mongolian', [['Mongol: The Rise of Genghis Khan\\xa0', 5701643]]],\n",
       " ['Portuguese', [['City of God\\xa0', 7563397]]],\n",
       " ['Vietnamese', [['Journey from the Fall\\xa0', 638951]]],\n",
       " ['Telugu', [['Baahubali: The Beginning\\xa0', 6498000]]]]"
      ]
     },
     "execution_count": 4,
     "metadata": {},
     "output_type": "execute_result"
    }
   ],
   "source": [
    "grossLanguage(data)"
   ]
  },
  {
   "cell_type": "code",
   "execution_count": 5,
   "metadata": {},
   "outputs": [
    {
     "data": {
      "text/plain": [
       "[[3807, 'USA'], [448, 'UK'], [154, 'France']]"
      ]
     },
     "execution_count": 5,
     "metadata": {},
     "output_type": "execute_result"
    }
   ],
   "source": [
    "top3(data)"
   ]
  }
 ],
 "metadata": {
  "kernelspec": {
   "display_name": "Python 3",
   "language": "python",
   "name": "python3"
  },
  "language_info": {
   "codemirror_mode": {
    "name": "ipython",
    "version": 3
   },
   "file_extension": ".py",
   "mimetype": "text/x-python",
   "name": "python",
   "nbconvert_exporter": "python",
   "pygments_lexer": "ipython3",
   "version": "3.7.4"
  }
 },
 "nbformat": 4,
 "nbformat_minor": 2
}
