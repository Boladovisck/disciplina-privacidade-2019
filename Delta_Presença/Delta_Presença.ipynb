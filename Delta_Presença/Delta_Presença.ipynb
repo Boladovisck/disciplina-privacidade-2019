{
 "cells": [
  {
   "cell_type": "code",
   "execution_count": 78,
   "metadata": {},
   "outputs": [
    {
     "ename": "IndexError",
     "evalue": "list assignment index out of range",
     "output_type": "error",
     "traceback": [
      "\u001b[0;31m---------------------------------------------------------------------------\u001b[0m",
      "\u001b[0;31mIndexError\u001b[0m                                Traceback (most recent call last)",
      "\u001b[0;32m<ipython-input-78-e1cd366baefe>\u001b[0m in \u001b[0;36m<module>\u001b[0;34m\u001b[0m\n\u001b[1;32m      9\u001b[0m \u001b[0mout\u001b[0m\u001b[0;34m.\u001b[0m\u001b[0mclose\u001b[0m\u001b[0;34m(\u001b[0m\u001b[0;34m)\u001b[0m\u001b[0;34m;\u001b[0m\u001b[0;34m\u001b[0m\u001b[0;34m\u001b[0m\u001b[0m\n\u001b[1;32m     10\u001b[0m \u001b[0mdata\u001b[0m \u001b[0;34m=\u001b[0m \u001b[0mk_anonimato\u001b[0m\u001b[0;34m(\u001b[0m\u001b[0mdata\u001b[0m\u001b[0;34m,\u001b[0m\u001b[0;36m5\u001b[0m\u001b[0;34m)\u001b[0m\u001b[0;34m;\u001b[0m\u001b[0;34m\u001b[0m\u001b[0;34m\u001b[0m\u001b[0m\n\u001b[0;32m---> 11\u001b[0;31m \u001b[0mdata\u001b[0m \u001b[0;34m=\u001b[0m \u001b[0ml_diversidade\u001b[0m\u001b[0;34m(\u001b[0m\u001b[0mdata\u001b[0m\u001b[0;34m,\u001b[0m\u001b[0;36m3\u001b[0m\u001b[0;34m,\u001b[0m\u001b[0;36m5\u001b[0m\u001b[0;34m)\u001b[0m\u001b[0;34m;\u001b[0m\u001b[0;34m\u001b[0m\u001b[0;34m\u001b[0m\u001b[0m\n\u001b[0m\u001b[1;32m     12\u001b[0m \u001b[0mmostrarTabela\u001b[0m\u001b[0;34m(\u001b[0m\u001b[0mdata\u001b[0m\u001b[0;34m)\u001b[0m\u001b[0;34m;\u001b[0m\u001b[0;34m\u001b[0m\u001b[0;34m\u001b[0m\u001b[0m\n",
      "\u001b[0;32m<ipython-input-77-522d2ebd47b3>\u001b[0m in \u001b[0;36ml_diversidade\u001b[0;34m(tabela, l, sen)\u001b[0m\n\u001b[1;32m     35\u001b[0m                 \u001b[0;32mbreak\u001b[0m\u001b[0;34m;\u001b[0m\u001b[0;34m\u001b[0m\u001b[0;34m\u001b[0m\u001b[0m\n\u001b[1;32m     36\u001b[0m             \u001b[0;32melse\u001b[0m\u001b[0;34m:\u001b[0m\u001b[0;34m\u001b[0m\u001b[0;34m\u001b[0m\u001b[0m\n\u001b[0;32m---> 37\u001b[0;31m                 \u001b[0mdiversity\u001b[0m\u001b[0;34m[\u001b[0m\u001b[0mj\u001b[0m\u001b[0;34m]\u001b[0m \u001b[0;34m=\u001b[0m \u001b[0mtabela\u001b[0m\u001b[0;34m[\u001b[0m\u001b[0mi\u001b[0m\u001b[0;34m+\u001b[0m\u001b[0mj\u001b[0m\u001b[0;34m]\u001b[0m\u001b[0;34m[\u001b[0m\u001b[0msen\u001b[0m\u001b[0;34m]\u001b[0m\u001b[0;34m;\u001b[0m\u001b[0;34m\u001b[0m\u001b[0;34m\u001b[0m\u001b[0m\n\u001b[0m\u001b[1;32m     38\u001b[0m             \u001b[0mj\u001b[0m \u001b[0;34m=\u001b[0m \u001b[0mj\u001b[0m\u001b[0;34m+\u001b[0m\u001b[0;36m1\u001b[0m\u001b[0;34m;\u001b[0m\u001b[0;34m\u001b[0m\u001b[0;34m\u001b[0m\u001b[0m\n\u001b[1;32m     39\u001b[0m         \u001b[0msetDiversity\u001b[0m \u001b[0;34m=\u001b[0m \u001b[0mset\u001b[0m\u001b[0;34m(\u001b[0m\u001b[0mdiversity\u001b[0m\u001b[0;34m)\u001b[0m\u001b[0;34m;\u001b[0m\u001b[0;34m\u001b[0m\u001b[0;34m\u001b[0m\u001b[0m\n",
      "\u001b[0;31mIndexError\u001b[0m: list assignment index out of range"
     ]
    }
   ],
   "source": [
    "import csv\n",
    "\n",
    "out = open(\"doencas.csv\",newline = '');\n",
    "f = csv.reader(out);\n",
    "data = [];\n",
    "header = next(f);\n",
    "for row in f:\n",
    "    data.append(row);\n",
    "out.close();\n",
    "data = k_anonimato(data,5);\n",
    "data = l_diversidade(data,3,5);\n",
    "mostrarTabela(data);"
   ]
  },
  {
   "cell_type": "code",
   "execution_count": 39,
   "metadata": {},
   "outputs": [],
   "source": [
    "def generalizar(dado,i):\n",
    "    if i == 0;\n",
    "        dado = '*';\n",
    "        return dado;\n",
    "    elif i == 1:\n",
    "        dado = '*';\n",
    "        return dado;\n",
    "    elif i== 2:\n",
    "        dado = '*/*/*';\n",
    "        return dado;\n",
    "    elif i == 3:\n",
    "        if dado == 'Brooklyn' or dado == 'Schenectady' or dado =='New York City' or dado == 'Rochester' or dado =='Syracuse' or 'Jamaica' or dado =='Albany' or dado == 'Bronx' or dado == 'White Plains' or dado == 'Utica' or dado =='Flushing' or dado =='Yonkers' or dado =='Elmira' or dado =='Great Neck' or dado =='Port Washington' or dado =='Mount Vernon':\n",
    "            dado = 'New York';\n",
    "            return dado;\n",
    "        else:\n",
    "            dado = 'Kansas';\n",
    "            return dado;\n",
    "    elif i == 4:\n",
    "            dado = 'N.America';\n",
    "            return dado;"
   ]
  },
  {
   "cell_type": "code",
   "execution_count": 62,
   "metadata": {},
   "outputs": [],
   "source": [
    "def mostrarTabela(data):\n",
    "    tamanho = len(data);\n",
    "    i = 0;\n",
    "    while(i < tamanho):\n",
    "        print(data[i]);\n",
    "        print('\\n')\n",
    "        i=i+1;"
   ]
  },
  {
   "cell_type": "code",
   "execution_count": 45,
   "metadata": {},
   "outputs": [],
   "source": [
    "def k_anonimato(tabela,k):\n",
    "    Ltamanho = len(tabela);\n",
    "    Ctamanho = len(tabela[0])\n",
    "    i = 0;\n",
    "    if k <= Ctamanho - 1: \n",
    "        while(i < Ltamanho):\n",
    "            j = 1;\n",
    "            while j <= k:\n",
    "                tabela[i][j] = generalizar(tabela[i][j],j);\n",
    "                j=j+1;\n",
    "            i = i+1;\n",
    "        return tabela;\n",
    "    print('Erro: k maior do que o permitido');\n",
    "    return tabela;"
   ]
  },
  {
   "cell_type": "code",
   "execution_count": 77,
   "metadata": {},
   "outputs": [],
   "source": [
    "def diversificar(tabela,senData,diversity,l,setDiversity):\n",
    "    k = [len(setDiversity)][2];\n",
    "    i = 0;\n",
    "    aux  = senData;\n",
    "    while i < l:\n",
    "        if k[i][0] is None:\n",
    "            k[i][0] = diversity[i];\n",
    "            k[i][1] = 0;\n",
    "        if[k][i][0] == diversity[i]:\n",
    "            k[i][1] = k[i][1] + 1;\n",
    "        i = i+1;\n",
    "    i = 0;\n",
    "    while i < l:\n",
    "        if[k][i][0] == diversity[i] and k[i][1] > 1:\n",
    "            diversity[i] = aux.pop();\n",
    "        i = i + 1;\n",
    "        aux = senData;\n",
    "    return diversity;\n",
    "\n",
    "    \n",
    "def l_diversidade(tabela,l,sen):\n",
    "    senData = []\n",
    "    Ltamanho = len(tabela);\n",
    "    i=0;\n",
    "    while i < Ltamanho:\n",
    "        senData.append(tabela[i][sen]);\n",
    "        i = i+1;\n",
    "    senData = set(senData);\n",
    "    i=0;\n",
    "    diversity = [l];\n",
    "    while i < Ltamanho:\n",
    "        j=0;\n",
    "        while j < l:\n",
    "            if tabela[i+j][sen] is None:\n",
    "                break;\n",
    "            else:\n",
    "                diversity[j] = tabela[i+j][sen];\n",
    "            j = j+1;\n",
    "        setDiversity = set(diversity);\n",
    "        if len(setDiversity) < l:\n",
    "            diversity = diversificar(tabela,senData,diversity,l)\n",
    "        j = 0;\n",
    "        while j < l:\n",
    "            tabela[i+j][sen] = diversity[j]\n",
    "            j = j+1;\n",
    "    return tabela;"
   ]
  },
  {
   "cell_type": "code",
   "execution_count": null,
   "metadata": {},
   "outputs": [],
   "source": []
  }
 ],
 "metadata": {
  "kernelspec": {
   "display_name": "Python 3",
   "language": "python",
   "name": "python3"
  },
  "language_info": {
   "codemirror_mode": {
    "name": "ipython",
    "version": 3
   },
   "file_extension": ".py",
   "mimetype": "text/x-python",
   "name": "python",
   "nbconvert_exporter": "python",
   "pygments_lexer": "ipython3",
   "version": "3.7.4"
  }
 },
 "nbformat": 4,
 "nbformat_minor": 2
}
